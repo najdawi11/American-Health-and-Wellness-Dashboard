{
 "cells": [
  {
   "cell_type": "code",
   "execution_count": 1,
   "metadata": {},
   "outputs": [],
   "source": [
    "from pymongo import MongoClient\n",
    "from pprint import pprint\n",
    "\n"
   ]
  },
  {
   "cell_type": "code",
   "execution_count": 2,
   "metadata": {},
   "outputs": [],
   "source": [
    "mongo = MongoClient(port=27017)\n",
    "db = mongo.Project3"
   ]
  },
  {
   "cell_type": "code",
   "execution_count": 3,
   "metadata": {},
   "outputs": [
    {
     "name": "stdout",
     "output_type": "stream",
     "text": [
      "['data1']\n"
     ]
    }
   ],
   "source": [
    "print(db.list_collection_names())"
   ]
  },
  {
   "cell_type": "code",
   "execution_count": 4,
   "metadata": {},
   "outputs": [
    {
     "name": "stdout",
     "output_type": "stream",
     "text": [
      "{'_id': ObjectId('64bf4728bf4bffef3a90ccda'), 'year': '2018', 'stateabbr': 'AL', 'statedesc': 'Alabama', 'countyname': 'Baldwin', 'countyfips': '01003', 'locationname': '01003011601', 'datasource': 'BRFSS', 'category': 'Prevention', 'measure': 'Cervical cancer screening among adult women aged 21-65 years', 'data_value_unit': '%', 'data_value_type': 'Crude prevalence', 'data_value': '85.3', 'low_confidence_limit': '83.5', 'high_confidence_limit': '87.1', 'totalpopulation': '6062', 'geolocation': {'type': 'Point', 'coordinates': [-87.55879555, 30.41466842]}, 'locationid': '01003011601', 'categoryid': 'PREVENT', 'measureid': 'CERVICAL', 'datavaluetypeid': 'CrdPrv', 'short_question_text': 'Cervical Cancer Screening'}\n"
     ]
    }
   ],
   "source": [
    "print(db.data1.find_one())"
   ]
  },
  {
   "cell_type": "code",
   "execution_count": 5,
   "metadata": {},
   "outputs": [],
   "source": [
    "data = db['data1']\n"
   ]
  }
 ],
 "metadata": {
  "kernelspec": {
   "display_name": "base",
   "language": "python",
   "name": "python3"
  },
  "language_info": {
   "codemirror_mode": {
    "name": "ipython",
    "version": 3
   },
   "file_extension": ".py",
   "mimetype": "text/x-python",
   "name": "python",
   "nbconvert_exporter": "python",
   "pygments_lexer": "ipython3",
   "version": "3.9.13"
  },
  "orig_nbformat": 4
 },
 "nbformat": 4,
 "nbformat_minor": 2
}
